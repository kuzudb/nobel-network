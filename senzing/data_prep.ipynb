{
 "cells": [
  {
   "cell_type": "markdown",
   "id": "2bebfd30-7871-4407-816c-ccc8e1bb042a",
   "metadata": {
    "execution": {
     "iopub.execute_input": "2024-11-01T17:50:17.810907Z",
     "iopub.status.busy": "2024-11-01T17:50:17.810458Z",
     "iopub.status.idle": "2024-11-01T17:50:17.814928Z",
     "shell.execute_reply": "2024-11-01T17:50:17.814104Z",
     "shell.execute_reply.started": "2024-11-01T17:50:17.810885Z"
    }
   },
   "source": [
    "# Data Preparation for Nobel Laureates datasets"
   ]
  },
  {
   "cell_type": "code",
   "execution_count": 1,
   "id": "4edbacab-a628-447b-99a3-3705c471c023",
   "metadata": {
    "execution": {
     "iopub.execute_input": "2024-11-01T17:55:19.880331Z",
     "iopub.status.busy": "2024-11-01T17:55:19.880020Z",
     "iopub.status.idle": "2024-11-01T17:55:19.917311Z",
     "shell.execute_reply": "2024-11-01T17:55:19.917056Z",
     "shell.execute_reply.started": "2024-11-01T17:55:19.880309Z"
    }
   },
   "outputs": [],
   "source": [
    "import json\n",
    "import os\n",
    "import pathlib\n",
    "import subprocess\n",
    "import tempfile\n",
    "import urllib.request\n",
    "\n",
    "from icecream import ic\n",
    "import watermark"
   ]
  },
  {
   "cell_type": "code",
   "execution_count": 2,
   "id": "b192e977-463d-4d14-8c4b-f27961f51d7e",
   "metadata": {
    "execution": {
     "iopub.execute_input": "2024-11-01T17:55:19.917756Z",
     "iopub.status.busy": "2024-11-01T17:55:19.917688Z",
     "iopub.status.idle": "2024-11-01T17:55:19.927609Z",
     "shell.execute_reply": "2024-11-01T17:55:19.927281Z",
     "shell.execute_reply.started": "2024-11-01T17:55:19.917749Z"
    }
   },
   "outputs": [
    {
     "name": "stdout",
     "output_type": "stream",
     "text": [
      "Last updated: 2024-11-01T10:55:19.918638-07:00\n",
      "\n",
      "Python implementation: CPython\n",
      "Python version       : 3.11.9\n",
      "IPython version      : 8.29.0\n",
      "\n",
      "Compiler    : Clang 13.0.0 (clang-1300.0.29.30)\n",
      "OS          : Darwin\n",
      "Release     : 23.6.0\n",
      "Machine     : arm64\n",
      "Processor   : arm\n",
      "CPU cores   : 14\n",
      "Architecture: 64bit\n",
      "\n",
      "json     : 2.0.9\n",
      "watermark: 2.5.0\n",
      "\n"
     ]
    }
   ],
   "source": [
    "%load_ext watermark\n",
    "%watermark\n",
    "%watermark --iversions"
   ]
  },
  {
   "cell_type": "markdown",
   "id": "acf58523-7acd-41b8-bf49-d8971f366333",
   "metadata": {},
   "source": [
    "## Init local disk space"
   ]
  },
  {
   "cell_type": "markdown",
   "id": "c80d9500-a530-4e8e-851c-1999d965c74d",
   "metadata": {},
   "source": [
    "Organize the local disk space to be mounted for accessing the SQLite database."
   ]
  },
  {
   "cell_type": "code",
   "execution_count": 3,
   "id": "1da2d44f-7b53-478d-be9e-5aac9f37b6b6",
   "metadata": {
    "execution": {
     "iopub.execute_input": "2024-11-01T17:55:19.928322Z",
     "iopub.status.busy": "2024-11-01T17:55:19.928115Z",
     "iopub.status.idle": "2024-11-01T17:55:20.305428Z",
     "shell.execute_reply": "2024-11-01T17:55:20.303255Z",
     "shell.execute_reply.started": "2024-11-01T17:55:19.928305Z"
    }
   },
   "outputs": [],
   "source": [
    "!rm -rf /tmp/sqlite\n",
    "!mkdir /tmp/sqlite\n",
    "!touch /tmp/sqlite/G2C.db"
   ]
  },
  {
   "cell_type": "markdown",
   "id": "6ad22ddd-f10e-4c84-8181-f0a2dc0609f7",
   "metadata": {},
   "source": [
    "Organize the local disk space to be mounted for accessing the input datasets."
   ]
  },
  {
   "cell_type": "code",
   "execution_count": 4,
   "id": "af902751-2303-4a07-ac9f-ad7d714a10a8",
   "metadata": {
    "execution": {
     "iopub.execute_input": "2024-11-01T17:55:20.309129Z",
     "iopub.status.busy": "2024-11-01T17:55:20.307796Z",
     "iopub.status.idle": "2024-11-01T17:55:20.580819Z",
     "shell.execute_reply": "2024-11-01T17:55:20.579625Z",
     "shell.execute_reply.started": "2024-11-01T17:55:20.308988Z"
    }
   },
   "outputs": [],
   "source": [
    "!rm -rf /tmp/data\n",
    "!mkdir /tmp/data"
   ]
  },
  {
   "cell_type": "markdown",
   "id": "bd3a6ad8-d6e6-41f4-a03d-260d6097d5a2",
   "metadata": {},
   "source": [
    "## Prepare the datasets"
   ]
  },
  {
   "cell_type": "markdown",
   "id": "ed79e1ad-092c-4db2-b783-fc755d77cecf",
   "metadata": {},
   "source": [
    "Transform the `laureates.json` file into JSONL ready for Senzing data load."
   ]
  },
  {
   "cell_type": "code",
   "execution_count": 5,
   "id": "2c25d313-e9af-4b72-b936-c1eb6370eb95",
   "metadata": {
    "execution": {
     "iopub.execute_input": "2024-11-01T17:55:20.582530Z",
     "iopub.status.busy": "2024-11-01T17:55:20.582088Z",
     "iopub.status.idle": "2024-11-01T17:55:21.182960Z",
     "shell.execute_reply": "2024-11-01T17:55:21.182388Z",
     "shell.execute_reply.started": "2024-11-01T17:55:20.582493Z"
    },
    "scrolled": true
   },
   "outputs": [],
   "source": [
    "url: str = \"https://raw.githubusercontent.com/kuzudb/nobel-network/refs/heads/main/data/source_2/laureates.json\"\n",
    "out_path: pathlib.Path = pathlib.Path(\"/tmp/data\") / \"laureate.jsonl\"\n",
    "\n",
    "tmp_file: tempfile.NamedTemporaryFile = tempfile.NamedTemporaryFile(\n",
    "    mode = \"w\",\n",
    "    encoding = \"utf-8\",\n",
    "    delete = False,\n",
    ")\n",
    "\n",
    "try:\n",
    "    with urllib.request.urlopen(url) as url_fp:\n",
    "        tmp_file.write(url_fp.read().decode(\"utf-8\"))\n",
    "\n",
    "    cmd: str = f\"jq -c '.[]' < {tmp_file.name}\"\n",
    "\n",
    "    jsonl: subprocess.Popen = subprocess.Popen(\n",
    "        cmd,\n",
    "        shell = True,\n",
    "        stdout = subprocess.PIPE,\n",
    "    )\n",
    "\n",
    "    with out_path.open(\"w\", encoding = \"utf-8\") as out_fp:\n",
    "        for line in jsonl.stdout.readlines():\n",
    "            dat: dict = json.loads(line)\n",
    "            dat[\"DATA_SOURCE\"] = \"LAUREATE\"\n",
    "            \n",
    "            out_fp.write(json.dumps(dat))\n",
    "            out_fp.write(\"\\n\")\n",
    "except urllib.error.URLError as ex:\n",
    "    ic(ex.reason)\n",
    "finally:\n",
    "    tmp_file.close()\n",
    "    os.unlink(tmp_file.name)"
   ]
  },
  {
   "cell_type": "markdown",
   "id": "cd7afc58-cefc-44cb-9aec-857a4192a892",
   "metadata": {},
   "source": [
    "Transform the `scholars.json` file into JSONL ready for Senzing data load."
   ]
  },
  {
   "cell_type": "code",
   "execution_count": 6,
   "id": "93082141-216d-461b-8e58-f6a6484e75b0",
   "metadata": {
    "execution": {
     "iopub.execute_input": "2024-11-01T17:55:21.185352Z",
     "iopub.status.busy": "2024-11-01T17:55:21.185195Z",
     "iopub.status.idle": "2024-11-01T17:55:21.622336Z",
     "shell.execute_reply": "2024-11-01T17:55:21.621574Z",
     "shell.execute_reply.started": "2024-11-01T17:55:21.185338Z"
    }
   },
   "outputs": [],
   "source": [
    "url: str = \"https://raw.githubusercontent.com/kuzudb/nobel-network/refs/heads/main/data/source_1/scholars.json\"\n",
    "out_path: pathlib.Path = pathlib.Path(\"/tmp/data\") / \"scholars.jsonl\"\n",
    "\n",
    "tmp_file: tempfile.NamedTemporaryFile = tempfile.NamedTemporaryFile(\n",
    "    mode = \"w\",\n",
    "    encoding = \"utf-8\",\n",
    "    delete = False,\n",
    ")\n",
    "\n",
    "try:\n",
    "    with urllib.request.urlopen(url) as url_fp:\n",
    "        tmp_file.write(url_fp.read().decode(\"utf-8\"))\n",
    "\n",
    "    cmd: str = f\"jq -c '.[]' < {tmp_file.name}\"\n",
    "\n",
    "    jsonl: subprocess.Popen = subprocess.Popen(\n",
    "        cmd,\n",
    "        shell = True,\n",
    "        stdout = subprocess.PIPE,\n",
    "    )\n",
    "\n",
    "    with out_path.open(\"w\", encoding = \"utf-8\") as out_fp:\n",
    "        for id, line in enumerate(jsonl.stdout.readlines()):\n",
    "            dat: dict = json.loads(line)\n",
    "            dat[\"DATA_SOURCE\"] = \"SCHOLARS\"\n",
    "            dat[\"id\"] = id\n",
    "            \n",
    "            out_fp.write(json.dumps(dat))\n",
    "            out_fp.write(\"\\n\")\n",
    "except urllib.error.URLError as ex:\n",
    "    ic(ex.reason)\n",
    "finally:\n",
    "    tmp_file.close()\n",
    "    os.unlink(tmp_file.name)"
   ]
  }
 ],
 "metadata": {
  "kernelspec": {
   "display_name": "Python 3 (ipykernel)",
   "language": "python",
   "name": "python3"
  },
  "language_info": {
   "codemirror_mode": {
    "name": "ipython",
    "version": 3
   },
   "file_extension": ".py",
   "mimetype": "text/x-python",
   "name": "python",
   "nbconvert_exporter": "python",
   "pygments_lexer": "ipython3",
   "version": "3.11.9"
  }
 },
 "nbformat": 4,
 "nbformat_minor": 5
}
